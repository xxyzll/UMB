{
 "cells": [
  {
   "cell_type": "code",
   "execution_count": null,
   "metadata": {},
   "outputs": [],
   "source": [
    "from fuzzywuzzy import fuzz\n",
    "from fuzzywuzzy import process\n",
    "from collections import defaultdict\n",
    "import openai\n",
    "import json\n",
    "import re\n",
    "\n",
    "\n",
    "api_key = \"\"\n",
    "openai.api_key = api_key\n",
    "classnames_file = \"data/RWD/ImageSets/Aerial/known_classnames.txt\""
   ]
  },
  {
   "cell_type": "code",
   "execution_count": null,
   "metadata": {},
   "outputs": [],
   "source": [
    "attribute_categories = [\"Shape: This includes the overall form or outline of objects in the image.\",\n",
    "                        \"Color: The predominant colors present in the image and how they contribute to the class identity.\",\n",
    "                        \"Texture: The surface qualities of objects, such as smoothness, roughness, or patterns.\", \n",
    "                        \"Size: The dimensions and proportions of objects in the image.\",\n",
    "                        \"Context: The surroundings or background of objects, which can provide contextual information.\",\n",
    "                        \"Features: Specific visual characteristics unique to certain classes, like wings for birds or fins for fish.\",\n",
    "                        \"Appearance: The overall visual appearance, including the presence of specific structures like wheels on vehicles or petals on flowers.\",\n",
    "                        \"Behavior: Attributes related to how objects in the image interact or move.\",\n",
    "                        \"Environment: The type of setting or habitat depicted in the image.\",\n",
    "                        \"Material: The substances or materials objects are made of, which can affect their appearance.\"]\n",
    "\n",
    "domain = \"xray images of the bones in the hands\"\n",
    "classnames = read_txt_file(classnames_file)\n"
   ]
  },
  {
   "cell_type": "code",
   "execution_count": null,
   "metadata": {
    "collapsed": false,
    "jupyter": {
     "outputs_hidden": false
    }
   },
   "outputs": [],
   "source": [
    "def read_txt_file(filename):\n",
    "    try:\n",
    "        with open(filename, 'r') as file:\n",
    "            content = file.read().splitlines()\n",
    "            return content\n",
    "    except FileNotFoundError:\n",
    "        return \"File not found\"\n",
    "    except Exception as e:\n",
    "        return f\"An error occurred: {str(e)}\"\n",
    "\n",
    "\n",
    "def merge_attributes(data_dict):\n",
    "    merged_attributes = {}  # Attribute_name: [values]\n",
    "    for class_data in data_dict.values():\n",
    "        for attr_name, attr_values in class_data.items():\n",
    "            if attr_name not in merged_attributes:\n",
    "                merged_attributes[attr_name] = []\n",
    "            merged_attributes[attr_name].extend(attr_values)\n",
    "    return merged_attributes\n",
    "\n",
    "\n",
    "def remove_duplicates(merged_attributes):\n",
    "    unique_merged_attributes = {}\n",
    "    for attr_name, attr_values in merged_attributes.items():\n",
    "        unique_values = list(set(attr_values))\n",
    "        unique_merged_attributes[attr_name] = unique_values\n",
    "    return unique_merged_attributes\n",
    "    "
   ]
  },
  {
   "cell_type": "code",
   "execution_count": null,
   "metadata": {
    "collapsed": false,
    "jupyter": {
     "outputs_hidden": false
    }
   },
   "outputs": [],
   "source": [
    "def extract_attributes_from_text(text):\n",
    "    pattern = r'```python\\n([\\s\\S]+?)\\n\\]\\n```'\n",
    "    matches = re.search(pattern, text)\n",
    "    if matches:\n",
    "        text = matches.group(1).strip()\n",
    "\n",
    "    if len(text.split(\":\"))==2:\n",
    "        text = text.split(\":\")[-1]\n",
    "\n",
    "    if \"list format:\" in text:\n",
    "        text = text.split(\"list format:\")[-1]\n",
    "\n",
    "    if \"Please note\" in text:\n",
    "        text = text.split(\"Please note\")[0]\n",
    "    elif \"please note\" in text:\n",
    "        text = text.split(\"please note\")[0]\n",
    "    # Define custom patterns to capture attributes\n",
    "    patterns = [\n",
    "        r'\\d+\\.\\s*([\\w\\s\\-\\'()]+)',\n",
    "        r'\\d+\\.\\s*([\\w\\s\\-,\\'()]+)',\n",
    "        r'\\[\\s*\"([\\w\\s\\-\\'(),.]+)\"\\s*\\]',\n",
    "        r'\\n\\d+\\.\\s',\n",
    "        r'\\n\\d+\\.\\s+',\n",
    "        r'\"([^\"]+)\"',\n",
    "        r\"([\\w\\s\\-\\'(),.]+)\",\n",
    "        r\"'(.*?)'\"\n",
    "    ]\n",
    "\n",
    "    attributes = []\n",
    "    for pattern in patterns:\n",
    "        matches = re.findall(pattern, text)\n",
    "        matches = [m for m in matches if '\\n' not in m]\n",
    "        matches = [m for m in matches if any(c.isalpha() for c in m)]\n",
    "        if len(attributes)< len(matches):\n",
    "            attributes = matches\n",
    "\n",
    "    for pattern in patterns:\n",
    "        matches = re.split(pattern, text)\n",
    "        matches = [m for m in matches if '\\n' not in m]\n",
    "        matches = [m for m in matches if any(c.isalpha() for c in m)]\n",
    "        if len(attributes)< len(matches):\n",
    "            attributes = matches\n",
    "\n",
    "\n",
    "    return attributes"
   ]
  },
  {
   "cell_type": "code",
   "execution_count": null,
   "metadata": {
    "collapsed": false,
    "jupyter": {
     "outputs_hidden": false
    }
   },
   "outputs": [],
   "source": [
    "text_prompt = lambda class_name, description, context: f\"\"\"I am conducting research in zero-shot image classification and seek your assistance in compiling valuable visual/functional attributes for various classes.\\nThese attributes will aid in identifying features within images, enabling image classification into target classes.\\nKindly provide the attributes related to {class_name} based on {description} that would aid in its classification within {context}. Format the attributes as a Python list (list ONLY):\"\"\"\n"
   ]
  },
  {
   "cell_type": "code",
   "execution_count": null,
   "metadata": {
    "collapsed": false,
    "jupyter": {
     "outputs_hidden": false
    }
   },
   "outputs": [],
   "source": [
    "dataset = {}\n",
    "for c in classnames:\n",
    "    dataset[c]={}\n",
    "    for a in attribute_categories:\n",
    "        response = openai.ChatCompletion.create(\n",
    "            model=\"gpt-3.5-turbo-16k\",\n",
    "            messages= [{\"role\": \"user\", \"content\":text_prompt(a, c, domain)}],\n",
    "            temperature=0.5,\n",
    "            max_tokens=2789,\n",
    "            top_p=1,\n",
    "            frequency_penalty=0,\n",
    "            presence_penalty=0\n",
    "        )\n",
    "        dataset[c][a.split(\":\")[0]] = response['choices'][0]['message']['content']"
   ]
  },
  {
   "cell_type": "code",
   "execution_count": null,
   "metadata": {
    "collapsed": false,
    "jupyter": {
     "outputs_hidden": false
    }
   },
   "outputs": [],
   "source": [
    "attributes = {}\n",
    "for c in classnames:\n",
    "    attributes[c]={}\n",
    "    for a in attribute_categories:\n",
    "        attributes[c][a.split(\":\")[0]]=extract_attributes_from_text(dataset[c][a.split(\":\")[0]])\n",
    "        if len(attributes[c][a.split(\":\")[0]])==0:\n",
    "            print(dataset[c][a.split(\":\")[0]])\n",
    "            print(c)\n",
    "            print(a.split(\":\")[0])"
   ]
  },
  {
   "cell_type": "code",
   "execution_count": null,
   "metadata": {},
   "outputs": [],
   "source": [
    "\n",
    "def remove_similar_duplicates(attributes, threshold=90):\n",
    "    unique_attributes = defaultdict(list)\n",
    "\n",
    "    seen_values = set()\n",
    "\n",
    "    for category, attr_values in attributes.items():\n",
    "        for value in attr_values:\n",
    "            value_lower = value.lower()\n",
    "            is_duplicate = False\n",
    "\n",
    "            if is_valid_attribute(category, value_lower, seen_values, threshold):\n",
    "                for seen_value in seen_values:\n",
    "                    similarity_ratio = fuzz.token_set_ratio(value_lower, seen_value.lower())\n",
    "                    if similarity_ratio >= threshold:\n",
    "                        is_duplicate = True\n",
    "                        break\n",
    "\n",
    "                if not is_duplicate:\n",
    "                    seen_values.add(value_lower)\n",
    "                    unique_attributes[category].append(value)\n",
    "\n",
    "    return unique_attributes\n",
    "\n",
    "def is_valid_attribute(category, value, existing_values, threshold):\n",
    "    if not existing_values:\n",
    "        return True\n",
    "\n",
    "    for existing_value in existing_values:\n",
    "        similarity_ratio = fuzz.token_set_ratio(value, existing_value)\n",
    "        if similarity_ratio >= threshold:\n",
    "            return False\n",
    "\n",
    "    return True\n",
    "\n",
    "\n"
   ]
  },
  {
   "cell_type": "code",
   "execution_count": null,
   "outputs": [],
   "source": [
    "merged_attributes = remove_duplicates(merge_attributes(attributes))\n",
    "unique_attributes = remove_similar_duplicates(merged_attributes)\n",
    "print(\"Unique attributes saved to 'unique_attributes.json'\")"
   ],
   "metadata": {
    "collapsed": false
   }
  },
  {
   "cell_type": "code",
   "execution_count": null,
   "metadata": {
    "collapsed": false,
    "jupyter": {
     "outputs_hidden": false
    }
   },
   "outputs": [],
   "source": [
    "with open('unique_attributes.json', 'w') as file:\n",
    "    json.dump(unique_attributes, file, indent=4)"
   ]
  },
  {
   "cell_type": "code",
   "execution_count": null,
   "metadata": {
    "collapsed": false,
    "jupyter": {
     "outputs_hidden": false
    }
   },
   "outputs": [],
   "source": []
  }
 ],
 "metadata": {
  "kernelspec": {
   "display_name": "Python 3 (ipykernel)",
   "language": "python",
   "name": "python3"
  },
  "language_info": {
   "codemirror_mode": {
    "name": "ipython",
    "version": 3
   },
   "file_extension": ".py",
   "mimetype": "text/x-python",
   "name": "python",
   "nbconvert_exporter": "python",
   "pygments_lexer": "ipython3",
   "version": "3.7.16"
  }
 },
 "nbformat": 4,
 "nbformat_minor": 4
}
